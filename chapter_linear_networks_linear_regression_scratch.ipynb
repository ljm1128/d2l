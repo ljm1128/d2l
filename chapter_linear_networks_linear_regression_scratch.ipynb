{
  "nbformat": 4,
  "nbformat_minor": 0,
  "metadata": {
    "colab": {
      "name": "chapter_linear-networks_linear-regression-scratch.ipynb",
      "provenance": [],
      "collapsed_sections": [],
      "authorship_tag": "ABX9TyMHwQTFZFFl2O2sVhQGud1q",
      "include_colab_link": true
    },
    "kernelspec": {
      "name": "python3",
      "display_name": "Python 3"
    },
    "language_info": {
      "name": "python"
    }
  },
  "cells": [
    {
      "cell_type": "markdown",
      "metadata": {
        "id": "view-in-github",
        "colab_type": "text"
      },
      "source": [
        "<a href=\"https://colab.research.google.com/github/ljm1128/d2l/blob/main/chapter_linear_networks_linear_regression_scratch.ipynb\" target=\"_parent\"><img src=\"https://colab.research.google.com/assets/colab-badge.svg\" alt=\"Open In Colab\"/></a>"
      ]
    },
    {
      "cell_type": "code",
      "source": [
        "import numpy as np\n",
        "import torch\n",
        "import random"
      ],
      "metadata": {
        "id": "xoAj0XYxR3Bm"
      },
      "execution_count": null,
      "outputs": []
    },
    {
      "cell_type": "code",
      "execution_count": null,
      "metadata": {
        "id": "MEXw4VypcgBd"
      },
      "outputs": [],
      "source": [
        "def synthetic_data(w, b, num_examples):\n",
        "\n",
        "  X=torch.normal(0,1,[num_examples,len(w)])\n",
        "  y=torch.matmul(X,w)+b\n",
        "  y+=torch.normal(0,0.01,[num_examples])\n",
        "  return X,y\n",
        "\n",
        "true_w=torch.tensor([2, -3.4])\n",
        "true_b=4.2\n",
        "num_examples=1000\n",
        "features,labels=synthetic_data(true_w,true_b,num_examples)\n",
        "\n",
        "#print(features[0,:])\n",
        "#print(labels[0])\n",
        "\n"
      ]
    },
    {
      "cell_type": "code",
      "source": [
        "def data_iter(features,labels,batch_size):\n",
        "  num_examples=len(features)\n",
        "  indices=list(range(num_examples))\n",
        "  random.shuffle(indices)\n",
        "  for indice in range(0,num_examples,batch_size):\n",
        "    batch_indices=indices[indice:min(indice+batch_size,num_examples)]\n",
        "    yield features[batch_indices],labels[batch_indices]\n",
        "\n",
        "batch_size=10\n",
        "#for X,y in data_iter(features,labels,batch_size):\n",
        "  #print(X)\n",
        "  #print(y)"
      ],
      "metadata": {
        "id": "K0fdVL8QRi6_"
      },
      "execution_count": null,
      "outputs": []
    },
    {
      "cell_type": "code",
      "source": [
        "w=torch.normal(0,0.1,[2],requires_grad=True)\n",
        "b=torch.zeros(1,requires_grad=True)"
      ],
      "metadata": {
        "id": "LBREWDZfR0so"
      },
      "execution_count": null,
      "outputs": []
    },
    {
      "cell_type": "code",
      "source": [
        "def linreg(X,w,b):\n",
        "  return torch.matmul(X,w)+b"
      ],
      "metadata": {
        "id": "PWvvQXyhXiAc"
      },
      "execution_count": null,
      "outputs": []
    },
    {
      "cell_type": "code",
      "source": [
        "def squared_loss(y_hat,y):\n",
        "  return (y_hat-y)**2/2"
      ],
      "metadata": {
        "id": "n5l7F70wYfZX"
      },
      "execution_count": null,
      "outputs": []
    },
    {
      "cell_type": "code",
      "source": [
        "def sgd(params,lr,batch_size):\n",
        "  with torch.no_grad():\n",
        "    for param in params:\n",
        "      param-=lr*param.grad/batch_size\n",
        "      param.grad.zero_()"
      ],
      "metadata": {
        "id": "WD7_X24N5Guz"
      },
      "execution_count": null,
      "outputs": []
    },
    {
      "cell_type": "code",
      "source": [
        "lr = 0.03\n",
        "num_epochs = 10\n",
        "net = linreg\n",
        "loss = squared_loss\n",
        "\n",
        "for epoch in range(num_epochs):\n",
        "  for X,y in data_iter(features,labels,batch_size):\n",
        "    l=loss(y,net(X,w,b))\n",
        "    l.sum().backward()\n",
        "    sgd([w,b],lr,batch_size)\n",
        "\n",
        "  with torch.no_grad():\n",
        "    train_l = loss(net(features, w, b), labels)\n",
        "    print(f'epoch {epoch + 1}, loss {float(train_l.mean()):f}')\n",
        "\n",
        "print(w,b)\n",
        "\n",
        "\n",
        "\n"
      ],
      "metadata": {
        "colab": {
          "base_uri": "https://localhost:8080/"
        },
        "id": "pbObvRBLDYwb",
        "outputId": "432e327c-aa19-4d9e-ccdb-8e00ec033726"
      },
      "execution_count": null,
      "outputs": [
        {
          "output_type": "stream",
          "name": "stdout",
          "text": [
            "epoch 1, loss 0.041513\n",
            "epoch 2, loss 0.000152\n",
            "epoch 3, loss 0.000048\n",
            "epoch 4, loss 0.000048\n",
            "epoch 5, loss 0.000048\n",
            "epoch 6, loss 0.000048\n",
            "epoch 7, loss 0.000047\n",
            "epoch 8, loss 0.000048\n",
            "epoch 9, loss 0.000048\n",
            "epoch 10, loss 0.000048\n",
            "tensor([ 2.0002, -3.3994], requires_grad=True) tensor([4.2003], requires_grad=True)\n"
          ]
        }
      ]
    }
  ]
}