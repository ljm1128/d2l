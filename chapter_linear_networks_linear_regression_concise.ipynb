{
  "nbformat": 4,
  "nbformat_minor": 0,
  "metadata": {
    "colab": {
      "name": "chapter_linear-networks_linear-regression-concise.ipynb",
      "provenance": [],
      "collapsed_sections": [],
      "authorship_tag": "ABX9TyNEbsfikWMRhpgoKJdRFz5E",
      "include_colab_link": true
    },
    "kernelspec": {
      "name": "python3",
      "display_name": "Python 3"
    },
    "language_info": {
      "name": "python"
    }
  },
  "cells": [
    {
      "cell_type": "markdown",
      "metadata": {
        "id": "view-in-github",
        "colab_type": "text"
      },
      "source": [
        "<a href=\"https://colab.research.google.com/github/ljm1128/d2l/blob/main/chapter_linear_networks_linear_regression_concise.ipynb\" target=\"_parent\"><img src=\"https://colab.research.google.com/assets/colab-badge.svg\" alt=\"Open In Colab\"/></a>"
      ]
    },
    {
      "cell_type": "code",
      "execution_count": 40,
      "metadata": {
        "id": "CzMQ4sExgZa_"
      },
      "outputs": [],
      "source": [
        "from torch.utils.data import DataLoader, Dataset\n",
        "import torch"
      ]
    },
    {
      "cell_type": "code",
      "source": [
        "class TensorDataset(Dataset):\n",
        "  def __init__(self,feature_tensor,label_tensor):\n",
        "    self.feature_tensor=feature_tensor\n",
        "    self.label_tensor=label_tensor\n",
        "\n",
        "  def __getitem__(self,index):\n",
        "    return self.feature_tensor[index],self.label_tensor[index]\n",
        "\n",
        "  def __len__(self):\n",
        "    return self.feature_tensor.shape[0]\n"
      ],
      "metadata": {
        "id": "-T7xKkC2g1h5"
      },
      "execution_count": 41,
      "outputs": []
    },
    {
      "cell_type": "code",
      "source": [
        "def synthetic_data(w, b, num_examples):\n",
        "\n",
        "  X=torch.normal(0,1,[num_examples,len(w)])\n",
        "  y=torch.matmul(X,w)+b\n",
        "  y+=torch.normal(0,0.01,[num_examples])\n",
        "  return X,y.reshape(-1,1)\n",
        "\n",
        "true_w=torch.tensor([2, -3.4])\n",
        "true_b=4.2\n",
        "num_examples=1000\n",
        "features,labels=synthetic_data(true_w,true_b,num_examples)"
      ],
      "metadata": {
        "id": "6CCK3XEppn3T"
      },
      "execution_count": 42,
      "outputs": []
    },
    {
      "cell_type": "code",
      "source": [
        "tensor_dataset=TensorDataset(features,labels)"
      ],
      "metadata": {
        "id": "hQIssLOMpwOy"
      },
      "execution_count": 43,
      "outputs": []
    },
    {
      "cell_type": "code",
      "source": [
        "tensor_dataloader=DataLoader(tensor_dataset,batch_size=10,shuffle=True,num_workers=0)\n",
        "#for X,y in tensor_dataloader:\n",
        "#  print(X,y)\n",
        "#  break"
      ],
      "metadata": {
        "id": "NTPvbyHGqcLU"
      },
      "execution_count": 44,
      "outputs": []
    },
    {
      "cell_type": "code",
      "source": [
        "from torch import nn\n",
        "net = nn.Sequential(nn.Linear(2, 1))"
      ],
      "metadata": {
        "id": "AFoAxAPbx6Se"
      },
      "execution_count": 45,
      "outputs": []
    },
    {
      "cell_type": "code",
      "source": [
        "net[0].weight.data.normal_(0, 0.01)\n",
        "net[0].bias.data.fill_(0)"
      ],
      "metadata": {
        "colab": {
          "base_uri": "https://localhost:8080/"
        },
        "id": "NcHG6d6wyGDl",
        "outputId": "57994da5-2469-4e5b-dbf3-f48ed4e56aa5"
      },
      "execution_count": 46,
      "outputs": [
        {
          "output_type": "execute_result",
          "data": {
            "text/plain": [
              "tensor([0.])"
            ]
          },
          "metadata": {},
          "execution_count": 46
        }
      ]
    },
    {
      "cell_type": "code",
      "source": [
        "loss=nn.MSELoss()"
      ],
      "metadata": {
        "id": "Ae_CykATzUYV"
      },
      "execution_count": 47,
      "outputs": []
    },
    {
      "cell_type": "code",
      "source": [
        "trainer=torch.optim.SGD(net.parameters(),lr=0.03)"
      ],
      "metadata": {
        "id": "kYH3s_C1zdoV"
      },
      "execution_count": 48,
      "outputs": []
    },
    {
      "cell_type": "code",
      "source": [
        "num_epochs=10\n",
        "for epoch in range(num_epochs):\n",
        "  for X,y in tensor_dataloader:\n",
        "    l=loss(y,net(X))\n",
        "    trainer.zero_grad()\n",
        "    l.backward()\n",
        "    trainer.step()\n",
        "  l = loss(net(features), labels)\n",
        "  print(f'epoch {epoch + 1}, loss {l:f}') \n"
      ],
      "metadata": {
        "colab": {
          "base_uri": "https://localhost:8080/"
        },
        "id": "5k_wOAgnzsfU",
        "outputId": "c92de82e-4c78-4a53-8f90-015fc78a58e7"
      },
      "execution_count": 49,
      "outputs": [
        {
          "output_type": "stream",
          "name": "stdout",
          "text": [
            "epoch 1, loss 0.000192\n",
            "epoch 2, loss 0.000106\n",
            "epoch 3, loss 0.000107\n",
            "epoch 4, loss 0.000107\n",
            "epoch 5, loss 0.000107\n",
            "epoch 6, loss 0.000106\n",
            "epoch 7, loss 0.000106\n",
            "epoch 8, loss 0.000107\n",
            "epoch 9, loss 0.000106\n",
            "epoch 10, loss 0.000106\n"
          ]
        }
      ]
    },
    {
      "cell_type": "code",
      "source": [
        "w = net[0].weight.data\n",
        "print('w的估计误差：', true_w - w.reshape(true_w.shape))\n",
        "b = net[0].bias.data\n",
        "print('b的估计误差：', true_b - b)"
      ],
      "metadata": {
        "colab": {
          "base_uri": "https://localhost:8080/"
        },
        "id": "ClPPL1YxC2vW",
        "outputId": "2c9036db-02f8-4918-f20a-88a44c8fdef4"
      },
      "execution_count": 50,
      "outputs": [
        {
          "output_type": "stream",
          "name": "stdout",
          "text": [
            "w的估计误差： tensor([ 1.9324e-04, -5.8889e-05])\n",
            "b的估计误差： tensor([2.4796e-05])\n"
          ]
        }
      ]
    }
  ]
}